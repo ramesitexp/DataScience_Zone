{
  "nbformat": 4,
  "nbformat_minor": 0,
  "metadata": {
    "colab": {
      "provenance": [],
      "authorship_tag": "ABX9TyODL/o9GrNjR79f8+ZwH9RN",
      "include_colab_link": true
    },
    "kernelspec": {
      "name": "python3",
      "display_name": "Python 3"
    },
    "language_info": {
      "name": "python"
    }
  },
  "cells": [
    {
      "cell_type": "markdown",
      "metadata": {
        "id": "view-in-github",
        "colab_type": "text"
      },
      "source": [
        "<a href=\"https://colab.research.google.com/github/ramesitexp/DataScience_Zone/blob/main/datascience_python_day9.ipynb\" target=\"_parent\"><img src=\"https://colab.research.google.com/assets/colab-badge.svg\" alt=\"Open In Colab\"/></a>"
      ]
    },
    {
      "cell_type": "code",
      "execution_count": null,
      "metadata": {
        "id": "Gkmdvht_na00"
      },
      "outputs": [],
      "source": [
        "2x2+5x+c"
      ]
    },
    {
      "cell_type": "code",
      "source": [
        "def func(x,y,c):\n",
        "    print(2*(x**2)+5*y+c)\n",
        "\n",
        "func(10,5,2)"
      ],
      "metadata": {
        "colab": {
          "base_uri": "https://localhost:8080/"
        },
        "id": "vPv_RXV3nhpY",
        "outputId": "130e1462-16ff-4075-c2ad-056dbf00a941"
      },
      "execution_count": 2,
      "outputs": [
        {
          "output_type": "stream",
          "name": "stdout",
          "text": [
            "227\n"
          ]
        }
      ]
    },
    {
      "cell_type": "code",
      "source": [
        "# 94.4\n",
        "def tcal(val):\n",
        "    if val>98.4:\n",
        "        print('high fever')\n",
        "    elif val==98.4:\n",
        "        print('Normal')\n",
        "    else:\n",
        "        print('cold fever')"
      ],
      "metadata": {
        "id": "V69L_Q0YozC2"
      },
      "execution_count": 13,
      "outputs": []
    },
    {
      "cell_type": "code",
      "source": [
        "val=float(input(\"Enter the temperature:\"))\n",
        "tcal(93)"
      ],
      "metadata": {
        "colab": {
          "base_uri": "https://localhost:8080/"
        },
        "id": "-pK7fLc1qDld",
        "outputId": "0790bb69-5ceb-4900-d77c-05fc7946f4e8"
      },
      "execution_count": 15,
      "outputs": [
        {
          "output_type": "stream",
          "name": "stdout",
          "text": [
            "Enter the temperature:83\n",
            "cold fever\n"
          ]
        }
      ]
    },
    {
      "cell_type": "code",
      "source": [
        "def sno(val):\n",
        "    for i in range(0,val,2):\n",
        "        print(i)"
      ],
      "metadata": {
        "id": "Fqd6hY1mqTa-"
      },
      "execution_count": 17,
      "outputs": []
    },
    {
      "cell_type": "code",
      "source": [
        "sno(100)"
      ],
      "metadata": {
        "colab": {
          "base_uri": "https://localhost:8080/"
        },
        "id": "WI1WVaMeqcZt",
        "outputId": "7e08bc7f-b079-4c5b-c5f2-7152685f63bb"
      },
      "execution_count": 18,
      "outputs": [
        {
          "output_type": "stream",
          "name": "stdout",
          "text": [
            "0\n",
            "2\n",
            "4\n",
            "6\n",
            "8\n",
            "10\n",
            "12\n",
            "14\n",
            "16\n",
            "18\n",
            "20\n",
            "22\n",
            "24\n",
            "26\n",
            "28\n",
            "30\n",
            "32\n",
            "34\n",
            "36\n",
            "38\n",
            "40\n",
            "42\n",
            "44\n",
            "46\n",
            "48\n",
            "50\n",
            "52\n",
            "54\n",
            "56\n",
            "58\n",
            "60\n",
            "62\n",
            "64\n",
            "66\n",
            "68\n",
            "70\n",
            "72\n",
            "74\n",
            "76\n",
            "78\n",
            "80\n",
            "82\n",
            "84\n",
            "86\n",
            "88\n",
            "90\n",
            "92\n",
            "94\n",
            "96\n",
            "98\n"
          ]
        }
      ]
    },
    {
      "cell_type": "code",
      "source": [
        "def a3(*x):\n",
        "    print(x)"
      ],
      "metadata": {
        "id": "zyMVjccGqdWT"
      },
      "execution_count": 19,
      "outputs": []
    },
    {
      "cell_type": "code",
      "source": [
        "a3(1,2,3,4)"
      ],
      "metadata": {
        "colab": {
          "base_uri": "https://localhost:8080/"
        },
        "id": "oltUA3KpqqXV",
        "outputId": "9948a1ad-31ac-43b9-bc62-eb205f2a5a7f"
      },
      "execution_count": 20,
      "outputs": [
        {
          "output_type": "stream",
          "name": "stdout",
          "text": [
            "(1, 2, 3, 4)\n"
          ]
        }
      ]
    },
    {
      "cell_type": "code",
      "source": [
        "def a4(**x):\n",
        "    for i,j in x.items():\n",
        "        print(i,'-',j)\n",
        "\n",
        ""
      ],
      "metadata": {
        "id": "u86WKzm0qqUk"
      },
      "execution_count": 21,
      "outputs": []
    },
    {
      "cell_type": "code",
      "source": [
        "a4(a=5,b=30,c=20)"
      ],
      "metadata": {
        "colab": {
          "base_uri": "https://localhost:8080/"
        },
        "id": "bNBx-YreqqR8",
        "outputId": "702b398f-16b3-4d13-c48e-92fbc9f973a1"
      },
      "execution_count": 24,
      "outputs": [
        {
          "output_type": "stream",
          "name": "stdout",
          "text": [
            "a - 5\n",
            "b - 30\n",
            "c - 20\n"
          ]
        }
      ]
    },
    {
      "cell_type": "code",
      "source": [
        "l1=[12,13,14,15]"
      ],
      "metadata": {
        "id": "jj8GTSemsXtj"
      },
      "execution_count": 26,
      "outputs": []
    },
    {
      "cell_type": "code",
      "source": [
        "def fnlist(a):\n",
        "    for i in a:\n",
        "        print(i)\n"
      ],
      "metadata": {
        "id": "ku6fmu4DqqPM"
      },
      "execution_count": 27,
      "outputs": []
    },
    {
      "cell_type": "code",
      "source": [],
      "metadata": {
        "id": "7u1K4oKmsqF6"
      },
      "execution_count": null,
      "outputs": []
    },
    {
      "cell_type": "code",
      "source": [
        "fnlist(l1)"
      ],
      "metadata": {
        "colab": {
          "base_uri": "https://localhost:8080/"
        },
        "id": "5tGpz7FsqqMM",
        "outputId": "a7d948fd-c78d-45ac-f9b7-9808623ca3ff"
      },
      "execution_count": 28,
      "outputs": [
        {
          "output_type": "stream",
          "name": "stdout",
          "text": [
            "12\n",
            "13\n",
            "14\n",
            "15\n"
          ]
        }
      ]
    },
    {
      "cell_type": "code",
      "source": [
        "def display(s):\n",
        "    print('Welcome', s)"
      ],
      "metadata": {
        "id": "gnhM0nbqrSh7"
      },
      "execution_count": 29,
      "outputs": []
    },
    {
      "cell_type": "code",
      "source": [
        "display('Ramesh')"
      ],
      "metadata": {
        "colab": {
          "base_uri": "https://localhost:8080/"
        },
        "id": "ll4ujl7irSdz",
        "outputId": "af577bb7-7471-4855-878f-9fb2504e3e6b"
      },
      "execution_count": 30,
      "outputs": [
        {
          "output_type": "stream",
          "name": "stdout",
          "text": [
            "Welcome Ramesh\n"
          ]
        }
      ]
    },
    {
      "cell_type": "code",
      "source": [
        "def retlist(l):\n",
        "    return l\n",
        ""
      ],
      "metadata": {
        "id": "zixn5Ra2rSXr"
      },
      "execution_count": 31,
      "outputs": []
    },
    {
      "cell_type": "code",
      "source": [
        "retlist(['Ram','Raj','Ran'])"
      ],
      "metadata": {
        "colab": {
          "base_uri": "https://localhost:8080/"
        },
        "id": "2NNIH5JIrSUz",
        "outputId": "d77e581a-e374-419d-e19e-e0fdf0b159f1"
      },
      "execution_count": 32,
      "outputs": [
        {
          "output_type": "execute_result",
          "data": {
            "text/plain": [
              "['Ram', 'Raj', 'Ran']"
            ]
          },
          "metadata": {},
          "execution_count": 32
        }
      ]
    },
    {
      "cell_type": "code",
      "source": [],
      "metadata": {
        "id": "0cJ1LjV3rSRz"
      },
      "execution_count": null,
      "outputs": []
    },
    {
      "cell_type": "code",
      "source": [],
      "metadata": {
        "id": "_MA_oFq_rSPD"
      },
      "execution_count": null,
      "outputs": []
    },
    {
      "cell_type": "code",
      "source": [],
      "metadata": {
        "id": "MBi-q-AorSL0"
      },
      "execution_count": null,
      "outputs": []
    },
    {
      "cell_type": "code",
      "source": [],
      "metadata": {
        "id": "d2_AZ9DkrSJE"
      },
      "execution_count": null,
      "outputs": []
    },
    {
      "cell_type": "code",
      "source": [],
      "metadata": {
        "id": "K4btmyfzrSCf"
      },
      "execution_count": null,
      "outputs": []
    }
  ]
}