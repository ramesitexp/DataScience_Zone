{
  "nbformat": 4,
  "nbformat_minor": 0,
  "metadata": {
    "colab": {
      "provenance": [],
      "authorship_tag": "ABX9TyPSIixt+IjxV4XI//1h90Sl",
      "include_colab_link": true
    },
    "kernelspec": {
      "name": "python3",
      "display_name": "Python 3"
    },
    "language_info": {
      "name": "python"
    }
  },
  "cells": [
    {
      "cell_type": "markdown",
      "metadata": {
        "id": "view-in-github",
        "colab_type": "text"
      },
      "source": [
        "<a href=\"https://colab.research.google.com/github/ramesitexp/DataScience_Zone/blob/main/Numpy.ipynb\" target=\"_parent\"><img src=\"https://colab.research.google.com/assets/colab-badge.svg\" alt=\"Open In Colab\"/></a>"
      ]
    },
    {
      "cell_type": "code",
      "execution_count": 1,
      "metadata": {
        "id": "SEoRB0T_GBmh"
      },
      "outputs": [],
      "source": [
        "import numpy as np"
      ]
    },
    {
      "cell_type": "code",
      "source": [
        "a=10,5\n",
        "type(a)"
      ],
      "metadata": {
        "colab": {
          "base_uri": "https://localhost:8080/"
        },
        "id": "H1p0vCQDGF-M",
        "outputId": "512cc88b-2fce-4a5e-d88d-8e8deb8e8a4e"
      },
      "execution_count": 7,
      "outputs": [
        {
          "output_type": "execute_result",
          "data": {
            "text/plain": [
              "tuple"
            ]
          },
          "metadata": {},
          "execution_count": 7
        }
      ]
    },
    {
      "cell_type": "code",
      "source": [
        "a1=np.array(a)"
      ],
      "metadata": {
        "id": "YPNeiy2wGQ5x"
      },
      "execution_count": 8,
      "outputs": []
    },
    {
      "cell_type": "code",
      "source": [
        "a1.ndim"
      ],
      "metadata": {
        "colab": {
          "base_uri": "https://localhost:8080/"
        },
        "id": "TeeYExg5GlW-",
        "outputId": "89b01641-c2f8-4079-8a54-f77d4a29927f"
      },
      "execution_count": 9,
      "outputs": [
        {
          "output_type": "execute_result",
          "data": {
            "text/plain": [
              "1"
            ]
          },
          "metadata": {},
          "execution_count": 9
        }
      ]
    },
    {
      "cell_type": "code",
      "source": [
        "a2=np.array([[1,2,3,4],[2,4,9,16],[4,8,18,32]])"
      ],
      "metadata": {
        "id": "OHAyFhz2HZNb"
      },
      "execution_count": 10,
      "outputs": []
    },
    {
      "cell_type": "code",
      "source": [
        "a2.ndim"
      ],
      "metadata": {
        "colab": {
          "base_uri": "https://localhost:8080/"
        },
        "id": "eOWyJOXTHZJ3",
        "outputId": "7abc197b-c6ec-498f-ac40-5cdf31ec0445"
      },
      "execution_count": 11,
      "outputs": [
        {
          "output_type": "execute_result",
          "data": {
            "text/plain": [
              "2"
            ]
          },
          "metadata": {},
          "execution_count": 11
        }
      ]
    },
    {
      "cell_type": "code",
      "source": [
        "np.array([9,8,7,6]).ndim"
      ],
      "metadata": {
        "colab": {
          "base_uri": "https://localhost:8080/"
        },
        "id": "OCibgatFHuXu",
        "outputId": "9b40505e-1314-402d-c085-95bb07db6507"
      },
      "execution_count": 12,
      "outputs": [
        {
          "output_type": "execute_result",
          "data": {
            "text/plain": [
              "1"
            ]
          },
          "metadata": {},
          "execution_count": 12
        }
      ]
    },
    {
      "cell_type": "code",
      "source": [
        "a3=np.array([[[1,2,3,4],[2,4,9,16],[4,8,18,32]],[[1,2,3,4],[2,4,9,16],[4,8,18,32]]])\n",
        "a3.ndim"
      ],
      "metadata": {
        "colab": {
          "base_uri": "https://localhost:8080/"
        },
        "id": "7mtorhU4IgY2",
        "outputId": "6556836a-989b-4fc4-b20d-970f0101f1cc"
      },
      "execution_count": 13,
      "outputs": [
        {
          "output_type": "execute_result",
          "data": {
            "text/plain": [
              "3"
            ]
          },
          "metadata": {},
          "execution_count": 13
        }
      ]
    },
    {
      "cell_type": "code",
      "source": [
        "emptyArray=np.empty((4,2))\n",
        "print(emptyArray)"
      ],
      "metadata": {
        "colab": {
          "base_uri": "https://localhost:8080/"
        },
        "id": "gMbYIfKfJgTY",
        "outputId": "519810e7-9a79-4a14-9ff0-c8c6fdb5466d"
      },
      "execution_count": 19,
      "outputs": [
        {
          "output_type": "stream",
          "name": "stdout",
          "text": [
            "[[7.69226145e-316 0.00000000e+000]\n",
            " [0.00000000e+000 0.00000000e+000]\n",
            " [0.00000000e+000 0.00000000e+000]\n",
            " [0.00000000e+000 0.00000000e+000]]\n"
          ]
        }
      ]
    },
    {
      "cell_type": "code",
      "source": [
        "ones=np.ones((4,3,4),dtype=int)\n",
        "print(ones)"
      ],
      "metadata": {
        "colab": {
          "base_uri": "https://localhost:8080/"
        },
        "id": "gqr7Zvj4JgP3",
        "outputId": "2373839d-39de-40be-fb09-1493216b14a8"
      },
      "execution_count": 25,
      "outputs": [
        {
          "output_type": "stream",
          "name": "stdout",
          "text": [
            "[[[1 1 1 1]\n",
            "  [1 1 1 1]\n",
            "  [1 1 1 1]]\n",
            "\n",
            " [[1 1 1 1]\n",
            "  [1 1 1 1]\n",
            "  [1 1 1 1]]\n",
            "\n",
            " [[1 1 1 1]\n",
            "  [1 1 1 1]\n",
            "  [1 1 1 1]]\n",
            "\n",
            " [[1 1 1 1]\n",
            "  [1 1 1 1]\n",
            "  [1 1 1 1]]]\n"
          ]
        }
      ]
    },
    {
      "cell_type": "code",
      "source": [
        "zeros=np.zeros((5,3,4),dtype=np.int16)\n",
        "print(zeros)"
      ],
      "metadata": {
        "colab": {
          "base_uri": "https://localhost:8080/"
        },
        "id": "kwKNGctSJgNK",
        "outputId": "2a182f02-e1ed-4589-9c54-ffdb2f4ed0bd"
      },
      "execution_count": 27,
      "outputs": [
        {
          "output_type": "stream",
          "name": "stdout",
          "text": [
            "[[[0 0 0 0]\n",
            "  [0 0 0 0]\n",
            "  [0 0 0 0]]\n",
            "\n",
            " [[0 0 0 0]\n",
            "  [0 0 0 0]\n",
            "  [0 0 0 0]]\n",
            "\n",
            " [[0 0 0 0]\n",
            "  [0 0 0 0]\n",
            "  [0 0 0 0]]\n",
            "\n",
            " [[0 0 0 0]\n",
            "  [0 0 0 0]\n",
            "  [0 0 0 0]]\n",
            "\n",
            " [[0 0 0 0]\n",
            "  [0 0 0 0]\n",
            "  [0 0 0 0]]]\n"
          ]
        }
      ]
    },
    {
      "cell_type": "code",
      "source": [
        "s=np.random.random((2,2,2))\n",
        "print(s)"
      ],
      "metadata": {
        "colab": {
          "base_uri": "https://localhost:8080/"
        },
        "id": "Ywi4pDSPJgKy",
        "outputId": "b18aea7e-1c58-45c0-b5ee-024be2249cde"
      },
      "execution_count": 32,
      "outputs": [
        {
          "output_type": "stream",
          "name": "stdout",
          "text": [
            "[[[0.9137348  0.6243444 ]\n",
            "  [0.55240284 0.46880657]]\n",
            "\n",
            " [[0.09570695 0.363208  ]\n",
            "  [0.75125829 0.31329124]]]\n"
          ]
        }
      ]
    },
    {
      "cell_type": "code",
      "source": [
        "fullArray=np.full((2,2),9.2)"
      ],
      "metadata": {
        "id": "FscaBALMJgIN"
      },
      "execution_count": 35,
      "outputs": []
    },
    {
      "cell_type": "code",
      "source": [
        "print(fullArray)"
      ],
      "metadata": {
        "colab": {
          "base_uri": "https://localhost:8080/"
        },
        "id": "XbJGPkO2JgF2",
        "outputId": "4cf50201-7140-4cc7-e9a6-d7a95a2dd8d9"
      },
      "execution_count": 36,
      "outputs": [
        {
          "output_type": "stream",
          "name": "stdout",
          "text": [
            "[[9.2 9.2]\n",
            " [9.2 9.2]]\n"
          ]
        }
      ]
    },
    {
      "cell_type": "code",
      "source": [
        "evenspaceArray=np.arange(0,26,5)\n",
        "print(evenspaceArray)"
      ],
      "metadata": {
        "colab": {
          "base_uri": "https://localhost:8080/"
        },
        "id": "XnixgFomLdb6",
        "outputId": "8219df70-4c0b-444d-f53a-9a9ce8bf1fb3"
      },
      "execution_count": 38,
      "outputs": [
        {
          "output_type": "stream",
          "name": "stdout",
          "text": [
            "[ 0  5 10 15 20 25]\n"
          ]
        }
      ]
    },
    {
      "cell_type": "code",
      "source": [
        "evenSpacedArray2=np.linspace(0,2,99)\n",
        "print(evenSpacedArray2)"
      ],
      "metadata": {
        "colab": {
          "base_uri": "https://localhost:8080/"
        },
        "id": "9CCpOtWbMTru",
        "outputId": "25ae2b69-9243-4060-9c4f-3f21da9daac1"
      },
      "execution_count": 40,
      "outputs": [
        {
          "output_type": "stream",
          "name": "stdout",
          "text": [
            "[0.         0.02040816 0.04081633 0.06122449 0.08163265 0.10204082\n",
            " 0.12244898 0.14285714 0.16326531 0.18367347 0.20408163 0.2244898\n",
            " 0.24489796 0.26530612 0.28571429 0.30612245 0.32653061 0.34693878\n",
            " 0.36734694 0.3877551  0.40816327 0.42857143 0.44897959 0.46938776\n",
            " 0.48979592 0.51020408 0.53061224 0.55102041 0.57142857 0.59183673\n",
            " 0.6122449  0.63265306 0.65306122 0.67346939 0.69387755 0.71428571\n",
            " 0.73469388 0.75510204 0.7755102  0.79591837 0.81632653 0.83673469\n",
            " 0.85714286 0.87755102 0.89795918 0.91836735 0.93877551 0.95918367\n",
            " 0.97959184 1.         1.02040816 1.04081633 1.06122449 1.08163265\n",
            " 1.10204082 1.12244898 1.14285714 1.16326531 1.18367347 1.20408163\n",
            " 1.2244898  1.24489796 1.26530612 1.28571429 1.30612245 1.32653061\n",
            " 1.34693878 1.36734694 1.3877551  1.40816327 1.42857143 1.44897959\n",
            " 1.46938776 1.48979592 1.51020408 1.53061224 1.55102041 1.57142857\n",
            " 1.59183673 1.6122449  1.63265306 1.65306122 1.67346939 1.69387755\n",
            " 1.71428571 1.73469388 1.75510204 1.7755102  1.79591837 1.81632653\n",
            " 1.83673469 1.85714286 1.87755102 1.89795918 1.91836735 1.93877551\n",
            " 1.95918367 1.97959184 2.        ]\n"
          ]
        }
      ]
    },
    {
      "cell_type": "code",
      "source": [
        "zeros=np.zeros((5,3,4),dtype=np.int16)\n",
        "e=zeros.ravel()\n",
        "print(e)"
      ],
      "metadata": {
        "colab": {
          "base_uri": "https://localhost:8080/"
        },
        "id": "phSjVQihMgj4",
        "outputId": "c4ae785f-c642-4f24-c618-4b9de1999458"
      },
      "execution_count": 41,
      "outputs": [
        {
          "output_type": "stream",
          "name": "stdout",
          "text": [
            "[0 0 0 0 0 0 0 0 0 0 0 0 0 0 0 0 0 0 0 0 0 0 0 0 0 0 0 0 0 0 0 0 0 0 0 0 0\n",
            " 0 0 0 0 0 0 0 0 0 0 0 0 0 0 0 0 0 0 0 0 0 0 0]\n"
          ]
        }
      ]
    },
    {
      "cell_type": "code",
      "source": [
        "zeros=np.zeros((5,3,4),dtype=np.int16)\n",
        "e=zeros.flatten()\n",
        "print(e)"
      ],
      "metadata": {
        "colab": {
          "base_uri": "https://localhost:8080/"
        },
        "id": "9LO2fuCyNmtc",
        "outputId": "58a5181d-fcbf-4f4c-9ba6-879050da1a8e"
      },
      "execution_count": 42,
      "outputs": [
        {
          "output_type": "stream",
          "name": "stdout",
          "text": [
            "[0 0 0 0 0 0 0 0 0 0 0 0 0 0 0 0 0 0 0 0 0 0 0 0 0 0 0 0 0 0 0 0 0 0 0 0 0\n",
            " 0 0 0 0 0 0 0 0 0 0 0 0 0 0 0 0 0 0 0 0 0 0 0]\n"
          ]
        }
      ]
    },
    {
      "cell_type": "code",
      "source": [
        "t=np.array([[5,4,33,4],[6,7,8,9],[7,5,7,9]])\n",
        "t"
      ],
      "metadata": {
        "colab": {
          "base_uri": "https://localhost:8080/"
        },
        "id": "7KI-H0o9OEXW",
        "outputId": "5dfa50f9-cc6a-438a-f793-ab983ea2966b"
      },
      "execution_count": 43,
      "outputs": [
        {
          "output_type": "execute_result",
          "data": {
            "text/plain": [
              "array([[ 5,  4, 33,  4],\n",
              "       [ 6,  7,  8,  9],\n",
              "       [ 7,  5,  7,  9]])"
            ]
          },
          "metadata": {},
          "execution_count": 43
        }
      ]
    },
    {
      "cell_type": "code",
      "source": [
        "t[:,1:3]"
      ],
      "metadata": {
        "colab": {
          "base_uri": "https://localhost:8080/"
        },
        "id": "jeYO9T0pOMEH",
        "outputId": "a0757faf-5368-4f84-88f9-b6b3c16dbe14"
      },
      "execution_count": 48,
      "outputs": [
        {
          "output_type": "execute_result",
          "data": {
            "text/plain": [
              "array([[ 4, 33],\n",
              "       [ 7,  8],\n",
              "       [ 5,  7]])"
            ]
          },
          "metadata": {},
          "execution_count": 48
        }
      ]
    },
    {
      "cell_type": "code",
      "source": [
        "#Numpy Array Basics\n",
        "# importing numpy #pip install numpy # conda install numpy\n",
        "import numpy as np  # numerical python\n",
        "#import array  #alias  #include<stdio.h> include <math.h>     [7,8.5,'sasi']  list , array , series ,dataframe\n",
        "\n",
        "# Defining 1D array\n",
        "my1DArray = np.array([9,8,7,6]) # row , list  #1*4 series\n",
        "print(my1DArray.ndim)\n",
        "\n",
        "# Defining and printing 2D array #vector\n",
        "my2DArray = np.array([[1, 2, 3, 4], [2, 4, 9, 16], [4, 8, 18, 32]]) #\n",
        "print(my2DArray.ndim)\n",
        "\n",
        "#Defining and printing 3D array # matrix\n",
        "my3Darray = np.array([[[ 1, 2 , 3 , 4],[ 5 , 6 , 7  ,8]], [[ 1,  2,  3,  4],[ 9, 10, 11, 12]]]) #\n",
        "print(my3Darray.ndim)\n"
      ],
      "metadata": {
        "colab": {
          "base_uri": "https://localhost:8080/"
        },
        "id": "AVae6ZDAOPXU",
        "outputId": "5bb76b37-4a00-4e17-feae-fe219ddce174"
      },
      "execution_count": 1,
      "outputs": [
        {
          "output_type": "stream",
          "name": "stdout",
          "text": [
            "1\n",
            "2\n",
            "3\n"
          ]
        }
      ]
    },
    {
      "cell_type": "code",
      "source": [
        "emptyArray = np.empty((4,2))\n",
        "print(emptyArray)"
      ],
      "metadata": {
        "colab": {
          "base_uri": "https://localhost:8080/"
        },
        "id": "r9tzP1zrgTLJ",
        "outputId": "21a42e25-f786-4b10-a4ee-cd9ae0eb42eb"
      },
      "execution_count": 2,
      "outputs": [
        {
          "output_type": "stream",
          "name": "stdout",
          "text": [
            "[[3.86585417e-315 0.00000000e+000]\n",
            " [0.00000000e+000 0.00000000e+000]\n",
            " [0.00000000e+000 0.00000000e+000]\n",
            " [0.00000000e+000 0.00000000e+000]]\n"
          ]
        }
      ]
    },
    {
      "cell_type": "code",
      "source": [
        "my3Darray"
      ],
      "metadata": {
        "colab": {
          "base_uri": "https://localhost:8080/"
        },
        "id": "yLCnCnNKgWQw",
        "outputId": "e6159eac-08d7-45df-8f3d-6bd12e64d293"
      },
      "execution_count": 3,
      "outputs": [
        {
          "output_type": "execute_result",
          "data": {
            "text/plain": [
              "array([[[ 1,  2,  3,  4],\n",
              "        [ 5,  6,  7,  8]],\n",
              "\n",
              "       [[ 1,  2,  3,  4],\n",
              "        [ 9, 10, 11, 12]]])"
            ]
          },
          "metadata": {},
          "execution_count": 3
        }
      ]
    },
    {
      "cell_type": "code",
      "source": [
        "cv = my3Darray.ravel()\n",
        "cv"
      ],
      "metadata": {
        "colab": {
          "base_uri": "https://localhost:8080/"
        },
        "id": "M2NUITurgWNQ",
        "outputId": "5a5a7135-7d09-4bf7-f476-b0c73c33a2a9"
      },
      "execution_count": 4,
      "outputs": [
        {
          "output_type": "execute_result",
          "data": {
            "text/plain": [
              "array([ 1,  2,  3,  4,  5,  6,  7,  8,  1,  2,  3,  4,  9, 10, 11, 12])"
            ]
          },
          "metadata": {},
          "execution_count": 4
        }
      ]
    },
    {
      "cell_type": "code",
      "source": [
        "a = np.arange(0,100,0.001) # start, end -1 , steps\n",
        "a"
      ],
      "metadata": {
        "colab": {
          "base_uri": "https://localhost:8080/"
        },
        "id": "js8QzJi4gWJ4",
        "outputId": "4f6754ef-0045-4fa4-8ea9-c83aac8de33c"
      },
      "execution_count": 5,
      "outputs": [
        {
          "output_type": "execute_result",
          "data": {
            "text/plain": [
              "array([0.0000e+00, 1.0000e-03, 2.0000e-03, ..., 9.9997e+01, 9.9998e+01,\n",
              "       9.9999e+01])"
            ]
          },
          "metadata": {},
          "execution_count": 5
        }
      ]
    },
    {
      "cell_type": "code",
      "source": [
        "b = np.linspace(1,10,20)\n",
        "b"
      ],
      "metadata": {
        "colab": {
          "base_uri": "https://localhost:8080/"
        },
        "id": "DsZYPLXhgWG4",
        "outputId": "961ff5cb-87ee-4bec-b5c0-348efd4dc3cb"
      },
      "execution_count": 7,
      "outputs": [
        {
          "output_type": "execute_result",
          "data": {
            "text/plain": [
              "array([ 1.        ,  1.47368421,  1.94736842,  2.42105263,  2.89473684,\n",
              "        3.36842105,  3.84210526,  4.31578947,  4.78947368,  5.26315789,\n",
              "        5.73684211,  6.21052632,  6.68421053,  7.15789474,  7.63157895,\n",
              "        8.10526316,  8.57894737,  9.05263158,  9.52631579, 10.        ])"
            ]
          },
          "metadata": {},
          "execution_count": 7
        }
      ]
    },
    {
      "cell_type": "code",
      "source": [
        " v = np.random.randint(256, size=(4, 7), dtype=np.int16)\n",
        " v"
      ],
      "metadata": {
        "colab": {
          "base_uri": "https://localhost:8080/"
        },
        "id": "V5Jds5ZSgWDJ",
        "outputId": "e5a3fa79-5f3f-4576-c06c-1c35a4f955e1"
      },
      "execution_count": 8,
      "outputs": [
        {
          "output_type": "execute_result",
          "data": {
            "text/plain": [
              "array([[129, 100, 240, 157,  91, 228,  89],\n",
              "       [221, 163,  36, 132, 137, 147,  59],\n",
              "       [193,  36,  93,  17,  50, 167,  87],\n",
              "       [215,  43,  65, 116,  80, 192,  47]], dtype=int16)"
            ]
          },
          "metadata": {},
          "execution_count": 8
        }
      ]
    },
    {
      "cell_type": "code",
      "source": [
        "v[0:2,0:2] # start , end-1"
      ],
      "metadata": {
        "colab": {
          "base_uri": "https://localhost:8080/"
        },
        "id": "FEwucEhMg4BP",
        "outputId": "69d16899-021f-484e-cdc4-284de8856616"
      },
      "execution_count": 9,
      "outputs": [
        {
          "output_type": "execute_result",
          "data": {
            "text/plain": [
              "array([[129, 100],\n",
              "       [221, 163]], dtype=int16)"
            ]
          },
          "metadata": {},
          "execution_count": 9
        }
      ]
    },
    {
      "cell_type": "code",
      "source": [
        "v[1:3,2:4]"
      ],
      "metadata": {
        "colab": {
          "base_uri": "https://localhost:8080/"
        },
        "id": "u5O1TB0Jg393",
        "outputId": "68f9b697-40a1-477e-83ad-2c935a86ab2c"
      },
      "execution_count": 10,
      "outputs": [
        {
          "output_type": "execute_result",
          "data": {
            "text/plain": [
              "array([[ 36, 132],\n",
              "       [ 93,  17]], dtype=int16)"
            ]
          },
          "metadata": {},
          "execution_count": 10
        }
      ]
    },
    {
      "cell_type": "code",
      "source": [
        "e  = np.empty(3,2)\n",
        "e"
      ],
      "metadata": {
        "colab": {
          "base_uri": "https://localhost:8080/",
          "height": 158
        },
        "id": "GKkGMOlajJQj",
        "outputId": "ee845685-8178-44df-dd43-641e6a5d540d"
      },
      "execution_count": 28,
      "outputs": [
        {
          "output_type": "error",
          "ename": "TypeError",
          "evalue": "Cannot interpret '2' as a data type",
          "traceback": [
            "\u001b[0;31m---------------------------------------------------------------------------\u001b[0m",
            "\u001b[0;31mTypeError\u001b[0m                                 Traceback (most recent call last)",
            "\u001b[0;32m<ipython-input-28-8cf04b62a63b>\u001b[0m in \u001b[0;36m<cell line: 0>\u001b[0;34m()\u001b[0m\n\u001b[0;32m----> 1\u001b[0;31m \u001b[0me\u001b[0m  \u001b[0;34m=\u001b[0m \u001b[0mnp\u001b[0m\u001b[0;34m.\u001b[0m\u001b[0mempty\u001b[0m\u001b[0;34m(\u001b[0m\u001b[0;36m3\u001b[0m\u001b[0;34m,\u001b[0m\u001b[0;36m2\u001b[0m\u001b[0;34m)\u001b[0m\u001b[0;34m\u001b[0m\u001b[0;34m\u001b[0m\u001b[0m\n\u001b[0m\u001b[1;32m      2\u001b[0m \u001b[0me\u001b[0m\u001b[0;34m\u001b[0m\u001b[0;34m\u001b[0m\u001b[0m\n",
            "\u001b[0;31mTypeError\u001b[0m: Cannot interpret '2' as a data type"
          ]
        }
      ]
    },
    {
      "cell_type": "code",
      "source": [
        "e  = np.empty((3,2))\n",
        "e"
      ],
      "metadata": {
        "colab": {
          "base_uri": "https://localhost:8080/"
        },
        "id": "nyaAm4A7g37Q",
        "outputId": "04a2d705-eb79-4841-c322-1878d73fd643"
      },
      "execution_count": 11,
      "outputs": [
        {
          "output_type": "execute_result",
          "data": {
            "text/plain": [
              "array([[0.0000e+00, 1.0000e-03],\n",
              "       [2.0000e-03, 9.9997e+01],\n",
              "       [9.9998e+01, 9.9999e+01]])"
            ]
          },
          "metadata": {},
          "execution_count": 11
        }
      ]
    },
    {
      "cell_type": "code",
      "source": [
        "c = np.random.rand(5,10)\n",
        "c"
      ],
      "metadata": {
        "colab": {
          "base_uri": "https://localhost:8080/"
        },
        "id": "pVZsIXAgg33v",
        "outputId": "c5313183-ec85-46b6-ff63-15e2132316e8"
      },
      "execution_count": 12,
      "outputs": [
        {
          "output_type": "execute_result",
          "data": {
            "text/plain": [
              "array([[0.03336307, 0.97096837, 0.28766464, 0.17596595, 0.73030179,\n",
              "        0.09090128, 0.68392862, 0.72594002, 0.91404527, 0.25620997],\n",
              "       [0.02831717, 0.50877644, 0.73127373, 0.23604687, 0.925383  ,\n",
              "        0.94728059, 0.72391954, 0.04494791, 0.28607775, 0.91785378],\n",
              "       [0.42546574, 0.34761586, 0.30956822, 0.82953145, 0.50205306,\n",
              "        0.41816962, 0.02225628, 0.85897559, 0.48188954, 0.60955711],\n",
              "       [0.67768735, 0.54961086, 0.3855885 , 0.8292129 , 0.63315301,\n",
              "        0.84565357, 0.69265109, 0.49870156, 0.73806921, 0.00427441],\n",
              "       [0.60111201, 0.5691108 , 0.28023815, 0.71629458, 0.40172687,\n",
              "        0.61119224, 0.68755534, 0.94735983, 0.68084256, 0.9338283 ]])"
            ]
          },
          "metadata": {},
          "execution_count": 12
        }
      ]
    },
    {
      "cell_type": "code",
      "source": [
        "c.ndim"
      ],
      "metadata": {
        "colab": {
          "base_uri": "https://localhost:8080/"
        },
        "id": "9yCQGr4Dg30g",
        "outputId": "69fc7688-bfaa-483c-86c8-804a3b3a0890"
      },
      "execution_count": 13,
      "outputs": [
        {
          "output_type": "execute_result",
          "data": {
            "text/plain": [
              "2"
            ]
          },
          "metadata": {},
          "execution_count": 13
        }
      ]
    },
    {
      "cell_type": "code",
      "source": [
        "c.shape"
      ],
      "metadata": {
        "colab": {
          "base_uri": "https://localhost:8080/"
        },
        "id": "7XTvg98TiG20",
        "outputId": "facd2092-42e9-4b35-eafe-4c0a9e3dd6db"
      },
      "execution_count": 14,
      "outputs": [
        {
          "output_type": "execute_result",
          "data": {
            "text/plain": [
              "(5, 10)"
            ]
          },
          "metadata": {},
          "execution_count": 14
        }
      ]
    },
    {
      "cell_type": "code",
      "source": [
        "c.size"
      ],
      "metadata": {
        "colab": {
          "base_uri": "https://localhost:8080/"
        },
        "id": "AR5WFVC3iGza",
        "outputId": "45e13440-c54c-4179-d4a0-cdc6fb196253"
      },
      "execution_count": 15,
      "outputs": [
        {
          "output_type": "execute_result",
          "data": {
            "text/plain": [
              "50"
            ]
          },
          "metadata": {},
          "execution_count": 15
        }
      ]
    },
    {
      "cell_type": "code",
      "source": [
        "c.T"
      ],
      "metadata": {
        "colab": {
          "base_uri": "https://localhost:8080/"
        },
        "id": "99f3OsAziGwS",
        "outputId": "c0e3593e-42c5-4458-ef85-26de1ee14b82"
      },
      "execution_count": 16,
      "outputs": [
        {
          "output_type": "execute_result",
          "data": {
            "text/plain": [
              "array([[0.03336307, 0.02831717, 0.42546574, 0.67768735, 0.60111201],\n",
              "       [0.97096837, 0.50877644, 0.34761586, 0.54961086, 0.5691108 ],\n",
              "       [0.28766464, 0.73127373, 0.30956822, 0.3855885 , 0.28023815],\n",
              "       [0.17596595, 0.23604687, 0.82953145, 0.8292129 , 0.71629458],\n",
              "       [0.73030179, 0.925383  , 0.50205306, 0.63315301, 0.40172687],\n",
              "       [0.09090128, 0.94728059, 0.41816962, 0.84565357, 0.61119224],\n",
              "       [0.68392862, 0.72391954, 0.02225628, 0.69265109, 0.68755534],\n",
              "       [0.72594002, 0.04494791, 0.85897559, 0.49870156, 0.94735983],\n",
              "       [0.91404527, 0.28607775, 0.48188954, 0.73806921, 0.68084256],\n",
              "       [0.25620997, 0.91785378, 0.60955711, 0.00427441, 0.9338283 ]])"
            ]
          },
          "metadata": {},
          "execution_count": 16
        }
      ]
    },
    {
      "cell_type": "code",
      "source": [
        "c.dtype"
      ],
      "metadata": {
        "colab": {
          "base_uri": "https://localhost:8080/"
        },
        "id": "R_No0-ooiGtD",
        "outputId": "f46fe112-2ce9-4737-9f3e-1f97e97153ac"
      },
      "execution_count": 17,
      "outputs": [
        {
          "output_type": "execute_result",
          "data": {
            "text/plain": [
              "dtype('float64')"
            ]
          },
          "metadata": {},
          "execution_count": 17
        }
      ]
    },
    {
      "cell_type": "code",
      "source": [
        "c.itemsize"
      ],
      "metadata": {
        "colab": {
          "base_uri": "https://localhost:8080/"
        },
        "id": "Zu69XKuPiGp0",
        "outputId": "61261171-60b1-4c56-b027-b9db8c1054db"
      },
      "execution_count": 18,
      "outputs": [
        {
          "output_type": "execute_result",
          "data": {
            "text/plain": [
              "8"
            ]
          },
          "metadata": {},
          "execution_count": 18
        }
      ]
    },
    {
      "cell_type": "code",
      "source": [
        "d = c.reshape(2,25)  # 1 *35, 35 *1 , 7 *5 , 5 *7"
      ],
      "metadata": {
        "id": "f2hDLGbMiTSO"
      },
      "execution_count": 19,
      "outputs": []
    },
    {
      "cell_type": "code",
      "source": [
        "d"
      ],
      "metadata": {
        "colab": {
          "base_uri": "https://localhost:8080/"
        },
        "id": "8va_lzGCiTOq",
        "outputId": "7003a37c-d561-46e0-e859-2c93a4943e6e"
      },
      "execution_count": 20,
      "outputs": [
        {
          "output_type": "execute_result",
          "data": {
            "text/plain": [
              "array([[0.03336307, 0.97096837, 0.28766464, 0.17596595, 0.73030179,\n",
              "        0.09090128, 0.68392862, 0.72594002, 0.91404527, 0.25620997,\n",
              "        0.02831717, 0.50877644, 0.73127373, 0.23604687, 0.925383  ,\n",
              "        0.94728059, 0.72391954, 0.04494791, 0.28607775, 0.91785378,\n",
              "        0.42546574, 0.34761586, 0.30956822, 0.82953145, 0.50205306],\n",
              "       [0.41816962, 0.02225628, 0.85897559, 0.48188954, 0.60955711,\n",
              "        0.67768735, 0.54961086, 0.3855885 , 0.8292129 , 0.63315301,\n",
              "        0.84565357, 0.69265109, 0.49870156, 0.73806921, 0.00427441,\n",
              "        0.60111201, 0.5691108 , 0.28023815, 0.71629458, 0.40172687,\n",
              "        0.61119224, 0.68755534, 0.94735983, 0.68084256, 0.9338283 ]])"
            ]
          },
          "metadata": {},
          "execution_count": 20
        }
      ]
    },
    {
      "cell_type": "code",
      "source": [
        "t = np.empty((10,3))\n",
        "t.ndim"
      ],
      "metadata": {
        "colab": {
          "base_uri": "https://localhost:8080/"
        },
        "id": "4q-5Mb1piTL7",
        "outputId": "7fea2914-4375-4d17-c552-3d722ab31f9a"
      },
      "execution_count": 21,
      "outputs": [
        {
          "output_type": "execute_result",
          "data": {
            "text/plain": [
              "2"
            ]
          },
          "metadata": {},
          "execution_count": 21
        }
      ]
    },
    {
      "cell_type": "code",
      "source": [
        "t"
      ],
      "metadata": {
        "colab": {
          "base_uri": "https://localhost:8080/"
        },
        "id": "7gCe_6l0iTJP",
        "outputId": "3a495050-d1d4-4e30-d658-485188318450"
      },
      "execution_count": 22,
      "outputs": [
        {
          "output_type": "execute_result",
          "data": {
            "text/plain": [
              "array([[3.98799976e-315, 0.00000000e+000, 6.01347002e-154],\n",
              "       [9.52378910e+228, 1.83477254e+044, 2.35288463e+251],\n",
              "       [2.06917493e+161, 3.03387744e-152, 2.31647114e-152],\n",
              "       [1.01907795e+277, 9.77817447e+199, 1.39159278e-258],\n",
              "       [6.01347002e-154, 9.41558777e+165, 8.70446315e+183],\n",
              "       [1.27967303e-152, 6.24896858e-085, 6.01347002e-154],\n",
              "       [1.14484092e+243, 5.03396122e+223, 4.65007198e-086],\n",
              "       [6.01347002e-154, 4.22034703e+194, 7.27930993e+199],\n",
              "       [8.01215523e-095, 3.11082252e+161, 2.31461371e-152],\n",
              "       [1.63041663e-322, 6.87282855e-310, 6.87282855e-310]])"
            ]
          },
          "metadata": {},
          "execution_count": 22
        }
      ]
    },
    {
      "cell_type": "code",
      "source": [
        "r = t.flatten()\n",
        "r.ndim"
      ],
      "metadata": {
        "colab": {
          "base_uri": "https://localhost:8080/"
        },
        "id": "520I32u3iTGw",
        "outputId": "b4b2892c-029d-4d1c-dc60-6a861acebb7a"
      },
      "execution_count": 23,
      "outputs": [
        {
          "output_type": "execute_result",
          "data": {
            "text/plain": [
              "1"
            ]
          },
          "metadata": {},
          "execution_count": 23
        }
      ]
    },
    {
      "cell_type": "code",
      "source": [
        "c.ndim"
      ],
      "metadata": {
        "colab": {
          "base_uri": "https://localhost:8080/"
        },
        "id": "4x4UidRviTD2",
        "outputId": "6df34efd-924c-4b78-edc3-66066496a27b"
      },
      "execution_count": 24,
      "outputs": [
        {
          "output_type": "execute_result",
          "data": {
            "text/plain": [
              "2"
            ]
          },
          "metadata": {},
          "execution_count": 24
        }
      ]
    },
    {
      "cell_type": "code",
      "source": [
        "s = np.array([5,7,9,9,5,6,4,7,9,8,7,6])\n",
        "for i in s:\n",
        " print(i*7)"
      ],
      "metadata": {
        "colab": {
          "base_uri": "https://localhost:8080/"
        },
        "id": "zjBCMuJTiTA1",
        "outputId": "d3d72cb5-a191-4d8e-b429-dcc9e307d1b8"
      },
      "execution_count": 25,
      "outputs": [
        {
          "output_type": "stream",
          "name": "stdout",
          "text": [
            "35\n",
            "49\n",
            "63\n",
            "63\n",
            "35\n",
            "42\n",
            "28\n",
            "49\n",
            "63\n",
            "56\n",
            "49\n",
            "42\n"
          ]
        }
      ]
    },
    {
      "cell_type": "code",
      "source": [
        "ss = np.array([5,7,9])\n",
        "vv = np.array([8,9,7])\n",
        "yy = np.array([8,7,6])"
      ],
      "metadata": {
        "id": "3vvG7w7Oi-g3"
      },
      "execution_count": 33,
      "outputs": []
    },
    {
      "cell_type": "code",
      "source": [
        "c = np.concatenate((ss,vv,yy))"
      ],
      "metadata": {
        "id": "9C1iuBQli-db"
      },
      "execution_count": 34,
      "outputs": []
    },
    {
      "cell_type": "code",
      "source": [
        "c"
      ],
      "metadata": {
        "colab": {
          "base_uri": "https://localhost:8080/"
        },
        "id": "LUWacHnmi-ah",
        "outputId": "ae5d6f48-afa9-4820-e92d-95b84bcb7fc8"
      },
      "execution_count": 35,
      "outputs": [
        {
          "output_type": "execute_result",
          "data": {
            "text/plain": [
              "array([5, 7, 9, 8, 9, 7, 8, 7, 6])"
            ]
          },
          "metadata": {},
          "execution_count": 35
        }
      ]
    },
    {
      "cell_type": "code",
      "source": [
        "zeros = np.zeros((8,3,4),dtype=int) # 2, 50,500,578687669696  # 70, 5671253, 4   4.80 4.4567457568\n",
        "print(zeros)"
      ],
      "metadata": {
        "colab": {
          "base_uri": "https://localhost:8080/"
        },
        "id": "m8qgerk0i-YC",
        "outputId": "09ecc3f2-680a-45b8-8321-dce523684257"
      },
      "execution_count": 37,
      "outputs": [
        {
          "output_type": "stream",
          "name": "stdout",
          "text": [
            "[[[0 0 0 0]\n",
            "  [0 0 0 0]\n",
            "  [0 0 0 0]]\n",
            "\n",
            " [[0 0 0 0]\n",
            "  [0 0 0 0]\n",
            "  [0 0 0 0]]\n",
            "\n",
            " [[0 0 0 0]\n",
            "  [0 0 0 0]\n",
            "  [0 0 0 0]]\n",
            "\n",
            " [[0 0 0 0]\n",
            "  [0 0 0 0]\n",
            "  [0 0 0 0]]\n",
            "\n",
            " [[0 0 0 0]\n",
            "  [0 0 0 0]\n",
            "  [0 0 0 0]]\n",
            "\n",
            " [[0 0 0 0]\n",
            "  [0 0 0 0]\n",
            "  [0 0 0 0]]\n",
            "\n",
            " [[0 0 0 0]\n",
            "  [0 0 0 0]\n",
            "  [0 0 0 0]]\n",
            "\n",
            " [[0 0 0 0]\n",
            "  [0 0 0 0]\n",
            "  [0 0 0 0]]]\n"
          ]
        }
      ]
    },
    {
      "cell_type": "code",
      "source": [],
      "metadata": {
        "id": "w7H70ik0i-Vk"
      },
      "execution_count": null,
      "outputs": []
    },
    {
      "cell_type": "code",
      "source": [],
      "metadata": {
        "id": "SPPRrnYHi-Sq"
      },
      "execution_count": null,
      "outputs": []
    },
    {
      "cell_type": "code",
      "source": [],
      "metadata": {
        "id": "QBpNQHkOi-QK"
      },
      "execution_count": null,
      "outputs": []
    }
  ]
}