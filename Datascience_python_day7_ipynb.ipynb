{
  "nbformat": 4,
  "nbformat_minor": 0,
  "metadata": {
    "colab": {
      "provenance": [],
      "authorship_tag": "ABX9TyMyrGT6nmiV0yTy6P0O/Uwy",
      "include_colab_link": true
    },
    "kernelspec": {
      "name": "python3",
      "display_name": "Python 3"
    },
    "language_info": {
      "name": "python"
    }
  },
  "cells": [
    {
      "cell_type": "markdown",
      "metadata": {
        "id": "view-in-github",
        "colab_type": "text"
      },
      "source": [
        "<a href=\"https://colab.research.google.com/github/ramesitexp/DataScience_Zone/blob/main/Datascience_python_day7_ipynb.ipynb\" target=\"_parent\"><img src=\"https://colab.research.google.com/assets/colab-badge.svg\" alt=\"Open In Colab\"/></a>"
      ]
    },
    {
      "cell_type": "code",
      "execution_count": null,
      "metadata": {
        "colab": {
          "base_uri": "https://localhost:8080/"
        },
        "id": "7QgL1b-LZMBQ",
        "outputId": "243aba21-fb7e-48d5-c928-1e4a8e48c4d2"
      },
      "outputs": [
        {
          "output_type": "stream",
          "name": "stdout",
          "text": [
            "Enter your namer,a,m\n",
            "['r', 'a', 'm']\n",
            "subscriber r\n",
            "subscriber a\n",
            "subscriber m\n"
          ]
        }
      ],
      "source": [
        "c=0\n",
        "subscriber=input(\"Enter your name\").split(',')\n",
        "print(subscriber)\n",
        "while c<len(subscriber):\n",
        "    print('subscriber',subscriber[c])\n",
        "    c+=1\n",
        "\n",
        "for i\n",
        "\n",
        "\n",
        "\n"
      ]
    },
    {
      "cell_type": "code",
      "source": [
        "sum=0\n",
        "values=input(\"Enter your values\").split(',')\n",
        "print(values)\n",
        "for i in values:\n",
        "    sum+=int(i)\n",
        "print(sum)"
      ],
      "metadata": {
        "colab": {
          "base_uri": "https://localhost:8080/"
        },
        "id": "-B3KCm2vbDNZ",
        "outputId": "50cf39bb-d6e0-448e-c88b-c46c82ebf6fe"
      },
      "execution_count": null,
      "outputs": [
        {
          "output_type": "stream",
          "name": "stdout",
          "text": [
            "Enter your values1,2,3,4,5\n",
            "['1', '2', '3', '4', '5']\n",
            "15\n"
          ]
        }
      ]
    }
  ]
}