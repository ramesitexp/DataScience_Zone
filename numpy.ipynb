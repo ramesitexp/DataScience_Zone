{
 "cells": [
  {
   "cell_type": "code",
   "execution_count": 1,
   "metadata": {},
   "outputs": [
    {
     "name": "stdout",
     "output_type": "stream",
     "text": [
      "Requirement already satisfied: numpy in c:\\users\\rames\\anaconda3\\envs\\bedrockproj\\lib\\site-packages (1.26.4)\n"
     ]
    }
   ],
   "source": [
    "!pip install numpy"
   ]
  },
  {
   "cell_type": "code",
   "execution_count": 2,
   "metadata": {},
   "outputs": [],
   "source": [
    "import numpy as np"
   ]
  },
  {
   "cell_type": "code",
   "execution_count": 4,
   "metadata": {},
   "outputs": [
    {
     "name": "stdout",
     "output_type": "stream",
     "text": [
      "[0 1 2 3 4 5 6 7 8 9]\n"
     ]
    }
   ],
   "source": [
    "# 1. Create a 1D Numpy array with values from 0 to 9.\n",
    "\n",
    "arr1=np.arange(10)\n",
    "print(arr1)"
   ]
  },
  {
   "cell_type": "code",
   "execution_count": 5,
   "metadata": {},
   "outputs": [
    {
     "name": "stdout",
     "output_type": "stream",
     "text": [
      "[[ True  True  True]\n",
      " [ True  True  True]\n",
      " [ True  True  True]]\n"
     ]
    }
   ],
   "source": [
    "#2.Create a 2D Numpy array with values with dtype=bool \n",
    "arr2=np.ones((3,3),dtype=bool)\n",
    "print(arr2)"
   ]
  },
  {
   "cell_type": "code",
   "execution_count": 6,
   "metadata": {},
   "outputs": [
    {
     "name": "stdout",
     "output_type": "stream",
     "text": [
      "[10 11 12 13 14 15 16 17 18 19 20 21 22 23 24 25 26 27 28 29 30 31 32 33\n",
      " 34 35 36 37 38 39 40 41 42 43 44 45 46 47 48 49]\n"
     ]
    }
   ],
   "source": [
    "#3. Create a Numpy array with values ranging from 10 to 49.\n",
    "arr3=np.arange(10,50)\n",
    "print(arr3)\n"
   ]
  },
  {
   "cell_type": "code",
   "execution_count": 12,
   "metadata": {},
   "outputs": [
    {
     "name": "stdout",
     "output_type": "stream",
     "text": [
      "[[1. 2. 3.]\n",
      " [4. 5. 6.]\n",
      " [7. 8. 9.]]\n"
     ]
    }
   ],
   "source": [
    "# 4. Create a 2D Numpy array and change the data type to float.\n",
    "arr4=np.array([[1,2,3],[4,5,6],[7,8,9]],dtype=float)\n",
    "print(arr4)"
   ]
  },
  {
   "cell_type": "code",
   "execution_count": 14,
   "metadata": {},
   "outputs": [
    {
     "name": "stdout",
     "output_type": "stream",
     "text": [
      "[[1. 0. 0. 0. 0.]\n",
      " [0. 1. 0. 0. 0.]\n",
      " [0. 0. 1. 0. 0.]\n",
      " [0. 0. 0. 1. 0.]\n",
      " [0. 0. 0. 0. 1.]]\n"
     ]
    }
   ],
   "source": [
    "# 5. Create a 4x4 identity matrix.\n",
    "arr5=np.identity(5)\n",
    "print(arr5)"
   ]
  },
  {
   "cell_type": "code",
   "execution_count": 16,
   "metadata": {},
   "outputs": [
    {
     "name": "stdout",
     "output_type": "stream",
     "text": [
      "[1.         1.44444444 1.88888889 2.33333333 2.77777778 3.22222222\n",
      " 3.66666667 4.11111111 4.55555556 5.        ]\n"
     ]
    }
   ],
   "source": [
    "# 6. Create a Numpy array with 10 values evenly spaced between 1 and 5.\n",
    "arr6=np.linspace(1,5,10)\n",
    "print(arr6)"
   ]
  },
  {
   "cell_type": "code",
   "execution_count": 18,
   "metadata": {},
   "outputs": [
    {
     "name": "stdout",
     "output_type": "stream",
     "text": [
      "[[0.76255805 0.2202872  0.13706096]\n",
      " [0.0656877  0.62795033 0.72959607]\n",
      " [0.72922868 0.32751909 0.17194957]]\n"
     ]
    }
   ],
   "source": [
    "# 7. Create a 3x3 Numpy array with random values.\n",
    "arr7=np.random.random((3,3))\n",
    "print(arr7)"
   ]
  },
  {
   "cell_type": "code",
   "execution_count": 22,
   "metadata": {},
   "outputs": [
    {
     "name": "stdout",
     "output_type": "stream",
     "text": [
      "[[0.95745396 0.93412832 0.74274701 0.42445309 0.68213855]\n",
      " [0.65400907 0.94480539 0.6935108  0.11382916 0.44276244]\n",
      " [0.59907273 0.13851034 0.90086578 0.99305878 0.42550055]\n",
      " [0.37438189 0.36977593 0.31683374 0.02768708 0.89357241]]\n"
     ]
    }
   ],
   "source": [
    "# 8. Create a Numpy array with 20 random values and reshape it to a 4x5 array.\n",
    "arr8=np.random.random(20).reshape(4,5)\n",
    "print(arr8)"
   ]
  },
  {
   "cell_type": "code",
   "execution_count": 36,
   "metadata": {},
   "outputs": [
    {
     "name": "stdout",
     "output_type": "stream",
     "text": [
      "[0.18431257 0.58383194 0.05236511]\n"
     ]
    }
   ],
   "source": [
    "# 9. Create an array of shape (3, 3) and extract the values of the second row.\n",
    "arr9=np.random.random((3,3))\n",
    "second_row=arr9[1,:]\n",
    "print(second_row)"
   ]
  },
  {
   "cell_type": "code",
   "execution_count": 40,
   "metadata": {},
   "outputs": [
    {
     "name": "stdout",
     "output_type": "stream",
     "text": [
      "[[ 0  1  2  3  4]\n",
      " [ 5  6  7  8  9]\n",
      " [10 11 12 13 14]\n",
      " [15 16 17 18 19]\n",
      " [20 21 22 23 24]]\n",
      "13\n"
     ]
    }
   ],
   "source": [
    "# 10. Create a 5x5 matrix with values 1 to 25 and extract the element in the third row and fourth column.\n",
    "arr10=np.arange(25).reshape(5,5)\n",
    "print(arr10)\n",
    "print(arr10[2,3])"
   ]
  },
  {
   "cell_type": "code",
   "execution_count": 41,
   "metadata": {},
   "outputs": [
    {
     "name": "stdout",
     "output_type": "stream",
     "text": [
      "(5, 5) 25 int32\n"
     ]
    }
   ],
   "source": [
    "# 11. Find the shape, size, and data type of a given Numpy array.\n",
    "arr11=np.arange(25).reshape(5,5)\n",
    "print(arr11.shape,arr11.size,arr11.dtype)"
   ]
  },
  {
   "cell_type": "code",
   "execution_count": 44,
   "metadata": {},
   "outputs": [
    {
     "name": "stdout",
     "output_type": "stream",
     "text": [
      "[[ 0  1  2  3  4]\n",
      " [ 5  6  7  8  9]\n",
      " [10 11 12 13 14]\n",
      " [15 16 17 18 19]\n",
      " [20 21 22 23 24]]\n",
      "[ 0  1  2  3  4  5  6  7  8  9 10 11 12 13 14 15 16 17 18 19 20 21 22 23\n",
      " 24]\n"
     ]
    }
   ],
   "source": [
    "# 12. Flatten a given 2D Numpy array.\n",
    "arr12=np.arange(25).reshape(5,5)\n",
    "flat_arr=arr12.flatten()\n",
    "print(arr12)\n",
    "print(flat_arr)"
   ]
  },
  {
   "cell_type": "code",
   "execution_count": 85,
   "metadata": {},
   "outputs": [
    {
     "name": "stdout",
     "output_type": "stream",
     "text": [
      "[[1 2 5 6]\n",
      " [5 1 2 1]]\n"
     ]
    }
   ],
   "source": [
    "# 13. Concatenate two Numpy arrays along the second axis.\n",
    "array13_1 = np.array([[1,2],[5,1]])\n",
    "array13_2 = np.array([[5, 6],[2,1]])\n",
    "concatenate=np.concatenate((array13_1,array13_2),axis=1)\n",
    "print(concatenate)"
   ]
  },
  {
   "cell_type": "code",
   "execution_count": 74,
   "metadata": {},
   "outputs": [
    {
     "name": "stdout",
     "output_type": "stream",
     "text": [
      "[[ 0  1  2  3  4]\n",
      " [ 5  6  7  8  9]\n",
      " [10 11 12 13 14]]\n",
      "[array([[0, 1, 2, 3, 4]]), array([[5, 6, 7, 8, 9]]), array([[10, 11, 12, 13, 14]])]\n"
     ]
    }
   ],
   "source": [
    "# 14. Split a given Numpy array into 3 equal-sized sub-arrays.\n",
    "arr14=np.arange(15).reshape(3,5)\n",
    "\n",
    "sub_arrays=np.split(arr14,3)\n",
    "print(arr14)\n",
    "print(sub_arrays)\n"
   ]
  },
  {
   "cell_type": "code",
   "execution_count": 93,
   "metadata": {},
   "outputs": [
    {
     "name": "stdout",
     "output_type": "stream",
     "text": [
      "92 6\n"
     ]
    }
   ],
   "source": [
    "# 15. Create a Numpy array with 10 random integers between 1 and 100, and find the maximum and minimum values.\n",
    "arr15=np.random.randint(1,101,size=10)\n",
    "print(np.max(arr15),np.min(arr15))"
   ]
  },
  {
   "cell_type": "code",
   "execution_count": 97,
   "metadata": {},
   "outputs": [
    {
     "name": "stdout",
     "output_type": "stream",
     "text": [
      "[[0.65015354 0.14670484 0.27874928]\n",
      " [0.8537527  0.57013996 0.89361372]\n",
      " [0.71663717 0.73791225 0.71306768]]\n",
      "[[1.         0.14670484 0.27874928]\n",
      " [1.         1.         1.        ]\n",
      " [1.         1.         1.        ]]\n"
     ]
    }
   ],
   "source": [
    "# 16. Create a Numpy array with random values and replace all values greater than 0.5 with 1.\n",
    "arr16=np.random.rand(3,3)\n",
    "print(arr16)\n",
    "arr16[arr16>0.5]=1\n",
    "print(arr16)\n"
   ]
  },
  {
   "cell_type": "code",
   "execution_count": 108,
   "metadata": {},
   "outputs": [
    {
     "name": "stdout",
     "output_type": "stream",
     "text": [
      "[[ 0  1  2]\n",
      " [ 3  4  5]\n",
      " [ 6  7  8]\n",
      " [ 9 10 11]]\n",
      "[[ 0  1  2]\n",
      " [ 3  4  5]\n",
      " [ 6  7  8]\n",
      " [ 9 10 11]]\n",
      "[[  0   1   4]\n",
      " [  9  16  25]\n",
      " [ 36  49  64]\n",
      " [ 81 100 121]]\n"
     ]
    }
   ],
   "source": [
    "# 17. Multiply two given Numpy arrays element-wise.\n",
    "arr17_1=np.arange(12).reshape(4,3)\n",
    "arr17_2=np.arange(12).reshape(4,3)\n",
    "print(arr17_1)\n",
    "print(arr17_2)\n",
    "print(np.multiply(arr17_1,arr17_2))"
   ]
  },
  {
   "cell_type": "code",
   "execution_count": 111,
   "metadata": {},
   "outputs": [
    {
     "name": "stdout",
     "output_type": "stream",
     "text": [
      "[[ 0  1  2]\n",
      " [ 3  4  5]\n",
      " [ 6  7  8]\n",
      " [ 9 10 11]]\n",
      "[[ 0  1  2  3]\n",
      " [ 4  5  6  7]\n",
      " [ 8  9 10 11]]\n",
      "[[ 20  23  26  29]\n",
      " [ 56  68  80  92]\n",
      " [ 92 113 134 155]\n",
      " [128 158 188 218]]\n"
     ]
    }
   ],
   "source": [
    "# 18. Compute the dot product of two given Numpy arrays.\n",
    "arr18_1=np.arange(12).reshape(4,3)\n",
    "arr18_2=np.arange(12).reshape(3,4)\n",
    "print(arr18_1)\n",
    "print(arr18_2)\n",
    "print(np.dot(arr18_1,arr18_2))"
   ]
  },
  {
   "cell_type": "code",
   "execution_count": 116,
   "metadata": {},
   "outputs": [
    {
     "name": "stdout",
     "output_type": "stream",
     "text": [
      "[[ 5  6]\n",
      " [ 7  8]\n",
      " [ 9 10]\n",
      " [11 12]\n",
      " [13 14]]\n"
     ]
    }
   ],
   "source": [
    "# 19. Add a scalar value to a given Numpy array.\n",
    "arr19=np.arange(10).reshape(5,2)\n",
    "print(arr19+5)"
   ]
  },
  {
   "cell_type": "code",
   "execution_count": 126,
   "metadata": {},
   "outputs": [
    {
     "name": "stdout",
     "output_type": "stream",
     "text": [
      "[[0 0 0 0 0]\n",
      " [0 0 0 0 0]]\n"
     ]
    }
   ],
   "source": [
    "# 20. Subtract one Numpy array from another.\n",
    "arr20_1=np.arange(10).reshape(2,5)\n",
    "arr20_2=np.arange(10).reshape(2,5)\n",
    "\n",
    "print(arr20_1 - arr20_2)"
   ]
  },
  {
   "cell_type": "code",
   "execution_count": 129,
   "metadata": {},
   "outputs": [
    {
     "name": "stdout",
     "output_type": "stream",
     "text": [
      "[[0 1 2 3 4]\n",
      " [5 6 7 8 9]]\n",
      "4.5\n",
      "4.5\n",
      "2.8722813232690143\n"
     ]
    }
   ],
   "source": [
    "# 21. Find the mean, median, and standard deviation of a given Numpy array.\n",
    "arr21=np.arange(10).reshape(2,5)\n",
    "print(arr21)\n",
    "print(np.mean(arr21))\n",
    "print(np.median(arr21))\n",
    "print(np.std(arr21))\n",
    "\n"
   ]
  },
  {
   "cell_type": "code",
   "execution_count": 137,
   "metadata": {},
   "outputs": [
    {
     "name": "stdout",
     "output_type": "stream",
     "text": [
      "[[63 23]\n",
      " [ 9 26]\n",
      " [ 4 89]\n",
      " [72 72]\n",
      " [67 24]]\n",
      "[[ 4 23]\n",
      " [ 9 24]\n",
      " [63 26]\n",
      " [67 72]\n",
      " [72 89]]\n"
     ]
    }
   ],
   "source": [
    "# 22. Sort a given Numpy array along the first axis.\n",
    "arr22=np.random.randint(1,100,size=10).reshape(5,2)\n",
    "print(arr22)\n",
    "sorted_arr = np.sort(arr22, axis=0)\n",
    "print(sorted_arr)"
   ]
  },
  {
   "cell_type": "code",
   "execution_count": 141,
   "metadata": {},
   "outputs": [
    {
     "name": "stdout",
     "output_type": "stream",
     "text": [
      "[1.]\n"
     ]
    }
   ],
   "source": [
    "# 23. Find the unique elements of a given Numpy array.\n",
    "arr23=np.ones((3,3))\n",
    "unique_elements = np.unique(arr23)\n",
    "print(unique_elements)"
   ]
  },
  {
   "cell_type": "code",
   "execution_count": 160,
   "metadata": {},
   "outputs": [
    {
     "name": "stdout",
     "output_type": "stream",
     "text": [
      "<class 'numpy.ndarray'>\n",
      "True\n"
     ]
    }
   ],
   "source": [
    "# 24. Check if a given Numpy array contains any NaN values.\n",
    "\n",
    "arr24= np.array([[1, 2], [3, 4], [np.nan, 5]])\n",
    "print(type(arr24))\n",
    "has_nan=np.isnan(arr24).any()\n",
    "print(has_nan)"
   ]
  },
  {
   "cell_type": "code",
   "execution_count": 167,
   "metadata": {},
   "outputs": [
    {
     "name": "stdout",
     "output_type": "stream",
     "text": [
      "[[ 0  1  2  3  4]\n",
      " [ 5  6  7  8  9]\n",
      " [10 11 12 13 14]\n",
      " [15 16 17 18 19]\n",
      " [20 21 22 23 24]]\n",
      "[[ 0  0  0  0  0  0  0]\n",
      " [ 0  0  1  2  3  4  0]\n",
      " [ 0  5  6  7  8  9  0]\n",
      " [ 0 10 11 12 13 14  0]\n",
      " [ 0 15 16 17 18 19  0]\n",
      " [ 0 20 21 22 23 24  0]\n",
      " [ 0  0  0  0  0  0  0]]\n"
     ]
    }
   ],
   "source": [
    "# 25. Create a 5x5 matrix and pad it with zeros along the border.\n",
    "arr25=np.arange(25).reshape(5, 5)\n",
    "print(arr25)\n",
    "pad_arr=np.pad(arr25,pad_width=1,mode='constant',constant_values=0)\n",
    "print(pad_arr)"
   ]
  },
  {
   "cell_type": "code",
   "execution_count": 170,
   "metadata": {},
   "outputs": [
    {
     "name": "stdout",
     "output_type": "stream",
     "text": [
      "[[ 0  1  2]\n",
      " [ 3  4  5]\n",
      " [ 6  7  8]\n",
      " [ 9 10 11]]\n",
      "[[ 0  3  6  9]\n",
      " [ 1  4  7 10]\n",
      " [ 2  5  8 11]]\n"
     ]
    }
   ],
   "source": [
    "# 26. Transpose a given Numpy array.\n",
    "arr26=np.arange(12).reshape(4, 3)\n",
    "print(arr26)\n",
    "print(arr26.T)"
   ]
  },
  {
   "cell_type": "code",
   "execution_count": 183,
   "metadata": {},
   "outputs": [
    {
     "name": "stdout",
     "output_type": "stream",
     "text": [
      "[[ 0  1  2]\n",
      " [ 3  4  5]\n",
      " [ 6  7  8]\n",
      " [ 9 10 11]]\n",
      "[[ 9 10 11]\n",
      " [ 6  7  8]\n",
      " [ 3  4  5]\n",
      " [ 0  1  2]]\n"
     ]
    }
   ],
   "source": [
    "# 27. Reverse the rows of a given 2D Numpy array.\n",
    "arr27=np.arange(12).reshape(4, 3)\n",
    "print(arr27)\n",
    "reversed_rows = arr27[::-1, :]\n",
    "print(reversed_rows)"
   ]
  },
  {
   "cell_type": "code",
   "execution_count": 185,
   "metadata": {},
   "outputs": [
    {
     "name": "stdout",
     "output_type": "stream",
     "text": [
      "[ 0  1  3  6 10 15 21 28 36 45 55 66]\n"
     ]
    }
   ],
   "source": [
    "# 28. Compute the cumulative sum of a given Numpy array.\n",
    "arr27=np.arange(12).reshape(4, 3)\n",
    "cumsum=np.cumsum(arr27)\n",
    "print(cumsum)"
   ]
  },
  {
   "cell_type": "code",
   "execution_count": 186,
   "metadata": {},
   "outputs": [
    {
     "name": "stdout",
     "output_type": "stream",
     "text": [
      "[[0.         0.09090909 0.18181818]\n",
      " [0.27272727 0.36363636 0.45454545]\n",
      " [0.54545455 0.63636364 0.72727273]\n",
      " [0.81818182 0.90909091 1.        ]]\n"
     ]
    }
   ],
   "source": [
    "# 29. Normalize a given Numpy array.\n",
    "arr29=np.arange(12).reshape(4, 3)\n",
    "normalized_arr = (arr29 - np.min(arr29)) / (np.max(arr29) - np.min(arr29))\n",
    "print(normalized_arr)"
   ]
  },
  {
   "cell_type": "code",
   "execution_count": 198,
   "metadata": {},
   "outputs": [
    {
     "name": "stdout",
     "output_type": "stream",
     "text": [
      "[[ 0  1  2]\n",
      " [ 3  4  5]\n",
      " [ 6  7  8]\n",
      " [ 9 10 11]]\n",
      "[[ 0  1  2  3  4  5  6  7  8  9 10 11]]\n"
     ]
    }
   ],
   "source": [
    "#30. Reshape a given Numpy array to have 1 row and multiple columns.\n",
    "arr30=np.arange(12).reshape(4, 3)\n",
    "print(arr30)\n",
    "print(arr30.reshape(1,-1))"
   ]
  }
 ],
 "metadata": {
  "kernelspec": {
   "display_name": "bedrockproj",
   "language": "python",
   "name": "python3"
  },
  "language_info": {
   "codemirror_mode": {
    "name": "ipython",
    "version": 3
   },
   "file_extension": ".py",
   "mimetype": "text/x-python",
   "name": "python",
   "nbconvert_exporter": "python",
   "pygments_lexer": "ipython3",
   "version": "3.10.14"
  }
 },
 "nbformat": 4,
 "nbformat_minor": 2
}
