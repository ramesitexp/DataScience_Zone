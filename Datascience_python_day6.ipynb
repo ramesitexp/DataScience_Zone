{
  "nbformat": 4,
  "nbformat_minor": 0,
  "metadata": {
    "colab": {
      "provenance": [],
      "authorship_tag": "ABX9TyM5zz8c0zIhQHnENlKmnlXs",
      "include_colab_link": true
    },
    "kernelspec": {
      "name": "python3",
      "display_name": "Python 3"
    },
    "language_info": {
      "name": "python"
    }
  },
  "cells": [
    {
      "cell_type": "markdown",
      "metadata": {
        "id": "view-in-github",
        "colab_type": "text"
      },
      "source": [
        "<a href=\"https://colab.research.google.com/github/ramesitexp/DataScience_Zone/blob/main/Datascience_python_day6.ipynb\" target=\"_parent\"><img src=\"https://colab.research.google.com/assets/colab-badge.svg\" alt=\"Open In Colab\"/></a>"
      ]
    },
    {
      "cell_type": "code",
      "execution_count": 1,
      "metadata": {
        "id": "KOUl-NhQGjIB"
      },
      "outputs": [],
      "source": [
        "l=[1,2,3.4,'h',3+4j]\n",
        "\n"
      ]
    },
    {
      "cell_type": "code",
      "source": [
        "v=[1,3,4,'j',3+7j]"
      ],
      "metadata": {
        "id": "bnkTcW-mHAOj"
      },
      "execution_count": 5,
      "outputs": []
    },
    {
      "cell_type": "code",
      "source": [
        "dict(l)"
      ],
      "metadata": {
        "colab": {
          "base_uri": "https://localhost:8080/",
          "height": 141
        },
        "id": "paY7MPN7GuC-",
        "outputId": "bcd8ad35-9094-4e27-cfaa-50fedda1b883"
      },
      "execution_count": 2,
      "outputs": [
        {
          "output_type": "error",
          "ename": "TypeError",
          "evalue": "cannot convert dictionary update sequence element #0 to a sequence",
          "traceback": [
            "\u001b[0;31m---------------------------------------------------------------------------\u001b[0m",
            "\u001b[0;31mTypeError\u001b[0m                                 Traceback (most recent call last)",
            "\u001b[0;32m<ipython-input-2-9f00e0700cfe>\u001b[0m in \u001b[0;36m<cell line: 0>\u001b[0;34m()\u001b[0m\n\u001b[0;32m----> 1\u001b[0;31m \u001b[0mdict\u001b[0m\u001b[0;34m(\u001b[0m\u001b[0ml\u001b[0m\u001b[0;34m)\u001b[0m\u001b[0;34m\u001b[0m\u001b[0;34m\u001b[0m\u001b[0m\n\u001b[0m",
            "\u001b[0;31mTypeError\u001b[0m: cannot convert dictionary update sequence element #0 to a sequence"
          ]
        }
      ]
    },
    {
      "cell_type": "code",
      "source": [
        "dict(zip(l,v))"
      ],
      "metadata": {
        "colab": {
          "base_uri": "https://localhost:8080/"
        },
        "id": "Lmojny-EHL6W",
        "outputId": "09679d02-28d9-421c-f455-95205a4af427"
      },
      "execution_count": 6,
      "outputs": [
        {
          "output_type": "execute_result",
          "data": {
            "text/plain": [
              "{1: 1, 2: 3, 3.4: 4, 'h': 'j', (3+4j): (3+7j)}"
            ]
          },
          "metadata": {},
          "execution_count": 6
        }
      ]
    },
    {
      "cell_type": "code",
      "source": [
        "tuple(l)"
      ],
      "metadata": {
        "colab": {
          "base_uri": "https://localhost:8080/"
        },
        "id": "qOMZfZwlG2gy",
        "outputId": "18d01c6b-e8f6-434c-a985-3017387d3484"
      },
      "execution_count": 3,
      "outputs": [
        {
          "output_type": "execute_result",
          "data": {
            "text/plain": [
              "(1, 2, 3.4, 'h', (3+4j))"
            ]
          },
          "metadata": {},
          "execution_count": 3
        }
      ]
    },
    {
      "cell_type": "code",
      "source": [
        "set(l)"
      ],
      "metadata": {
        "colab": {
          "base_uri": "https://localhost:8080/"
        },
        "id": "loKqXxHFG2dS",
        "outputId": "421339bb-3ddb-4e46-b981-29a80d1b11d7"
      },
      "execution_count": 4,
      "outputs": [
        {
          "output_type": "execute_result",
          "data": {
            "text/plain": [
              "{(3+4j), 1, 2, 3.4, 'h'}"
            ]
          },
          "metadata": {},
          "execution_count": 4
        }
      ]
    },
    {
      "cell_type": "code",
      "source": [
        "t=(1,2,3.2,'h',4+7j)"
      ],
      "metadata": {
        "id": "NHYEnT8bG2ad"
      },
      "execution_count": 7,
      "outputs": []
    },
    {
      "cell_type": "code",
      "source": [
        "list(t)"
      ],
      "metadata": {
        "colab": {
          "base_uri": "https://localhost:8080/"
        },
        "id": "DUsQSI_pG2Xp",
        "outputId": "804bebec-8641-4277-c117-2b3d2ace7311"
      },
      "execution_count": 8,
      "outputs": [
        {
          "output_type": "execute_result",
          "data": {
            "text/plain": [
              "[1, 2, 3.2, 'h', (4+7j)]"
            ]
          },
          "metadata": {},
          "execution_count": 8
        }
      ]
    },
    {
      "cell_type": "code",
      "source": [
        "dict(zip(t,v))"
      ],
      "metadata": {
        "colab": {
          "base_uri": "https://localhost:8080/"
        },
        "id": "cThGGr_8G2VE",
        "outputId": "28266b0e-abf5-4835-b4df-42cf376641b7"
      },
      "execution_count": 10,
      "outputs": [
        {
          "output_type": "execute_result",
          "data": {
            "text/plain": [
              "{1: 1, 2: 3, 3.2: 4, 'h': 'j', (4+7j): (3+7j)}"
            ]
          },
          "metadata": {},
          "execution_count": 10
        }
      ]
    },
    {
      "cell_type": "code",
      "source": [
        "s=set(t)"
      ],
      "metadata": {
        "id": "LlS8HQddG2Se"
      },
      "execution_count": 12,
      "outputs": []
    },
    {
      "cell_type": "code",
      "source": [
        "s"
      ],
      "metadata": {
        "colab": {
          "base_uri": "https://localhost:8080/"
        },
        "id": "u_RaUicAHY0o",
        "outputId": "986b8b68-6f6a-41c9-8403-1b3ea63f5eba"
      },
      "execution_count": 13,
      "outputs": [
        {
          "output_type": "execute_result",
          "data": {
            "text/plain": [
              "{(4+7j), 1, 2, 3.2, 'h'}"
            ]
          },
          "metadata": {},
          "execution_count": 13
        }
      ]
    },
    {
      "cell_type": "code",
      "source": [
        "dict(zip(s,v))"
      ],
      "metadata": {
        "colab": {
          "base_uri": "https://localhost:8080/"
        },
        "id": "q9L3mHCIHYxD",
        "outputId": "5931acd7-8e62-4df1-ef9d-31cc08b2459a"
      },
      "execution_count": 14,
      "outputs": [
        {
          "output_type": "execute_result",
          "data": {
            "text/plain": [
              "{1: 1, 2: 3, 3.2: 4, 'h': 'j', (4+7j): (3+7j)}"
            ]
          },
          "metadata": {},
          "execution_count": 14
        }
      ]
    },
    {
      "cell_type": "code",
      "source": [
        "list(s)"
      ],
      "metadata": {
        "colab": {
          "base_uri": "https://localhost:8080/"
        },
        "id": "UEtplzDnHYuC",
        "outputId": "551b045c-52c0-461d-abc3-569b5ad605e8"
      },
      "execution_count": 15,
      "outputs": [
        {
          "output_type": "execute_result",
          "data": {
            "text/plain": [
              "[1, 2, 3.2, 'h', (4+7j)]"
            ]
          },
          "metadata": {},
          "execution_count": 15
        }
      ]
    },
    {
      "cell_type": "code",
      "source": [
        "s1=\"Ram\""
      ],
      "metadata": {
        "id": "ZSIGzWDXHYrq"
      },
      "execution_count": 16,
      "outputs": []
    },
    {
      "cell_type": "code",
      "source": [
        "list(s1)"
      ],
      "metadata": {
        "colab": {
          "base_uri": "https://localhost:8080/"
        },
        "id": "Okw1GCmYHYpL",
        "outputId": "829c5e0d-00bc-4ca6-8251-c432b7bb78a4"
      },
      "execution_count": 17,
      "outputs": [
        {
          "output_type": "execute_result",
          "data": {
            "text/plain": [
              "['R', 'a', 'm']"
            ]
          },
          "metadata": {},
          "execution_count": 17
        }
      ]
    },
    {
      "cell_type": "code",
      "source": [
        "tuple(s1)"
      ],
      "metadata": {
        "colab": {
          "base_uri": "https://localhost:8080/"
        },
        "id": "THRD9HFfHYmf",
        "outputId": "135249c2-fedf-46d2-f588-ae4d113cdb64"
      },
      "execution_count": 18,
      "outputs": [
        {
          "output_type": "execute_result",
          "data": {
            "text/plain": [
              "('R', 'a', 'm')"
            ]
          },
          "metadata": {},
          "execution_count": 18
        }
      ]
    },
    {
      "cell_type": "code",
      "source": [
        "set(s1)"
      ],
      "metadata": {
        "colab": {
          "base_uri": "https://localhost:8080/"
        },
        "id": "6GY5iiorH0zi",
        "outputId": "fc624d26-d02e-482e-8234-f9d0e9ebf3c5"
      },
      "execution_count": 19,
      "outputs": [
        {
          "output_type": "execute_result",
          "data": {
            "text/plain": [
              "{'R', 'a', 'm'}"
            ]
          },
          "metadata": {},
          "execution_count": 19
        }
      ]
    },
    {
      "cell_type": "code",
      "source": [
        "m1=int(input('Enter your marks:'))"
      ],
      "metadata": {
        "colab": {
          "base_uri": "https://localhost:8080/"
        },
        "id": "0aJwwXGZH0wJ",
        "outputId": "bd403155-838d-4c87-add7-87d159fc7eb6"
      },
      "execution_count": 20,
      "outputs": [
        {
          "name": "stdout",
          "output_type": "stream",
          "text": [
            "Enter your marks:90\n"
          ]
        }
      ]
    },
    {
      "cell_type": "code",
      "source": [
        "m1=50\n",
        "m2=55\n",
        "m3=60\n",
        "m4=75\n",
        "total=m1+m2+m3+m4"
      ],
      "metadata": {
        "id": "FFNxRnXhH0tV"
      },
      "execution_count": 21,
      "outputs": []
    },
    {
      "cell_type": "code",
      "source": [
        "if total>450:\n",
        "    print('Grade A')\n",
        "elif total<300 and total<450:\n",
        "    print('Grade B')\n",
        "elif total>250 and total<300:\n",
        "    print('Grade C')\n",
        "else:\n",
        "    print('Fail')"
      ],
      "metadata": {
        "colab": {
          "base_uri": "https://localhost:8080/"
        },
        "id": "yEwYtZbZIMP-",
        "outputId": "4da65b4a-a326-4b18-b2f3-4d106a225077"
      },
      "execution_count": 23,
      "outputs": [
        {
          "output_type": "stream",
          "name": "stdout",
          "text": [
            "Grade B\n"
          ]
        }
      ]
    },
    {
      "cell_type": "code",
      "source": [
        "pen=1- pencil =5 n/b=20\n",
        "bill display\n",
        "500 2% 1000 %5 500< no discount"
      ],
      "metadata": {
        "id": "ldLfBN68IMMm"
      },
      "execution_count": null,
      "outputs": []
    },
    {
      "cell_type": "code",
      "source": [
        "pen=1\n",
        "pencil=5\n",
        "nbook=20\n",
        "qpen=2\n",
        "qpencil=20\n",
        "qnbook=2\n",
        "\n",
        "val=(pen*qpen)+(pencil*qpencil)+(nbook*qnbook)\n",
        "\n",
        "\n",
        "if val>1000:\n",
        "   discount=2\n",
        "elif val>500 and val<1000:\n",
        "    discount=5\n",
        "else:\n",
        "    discount=0\n",
        "\n",
        "print('#'*20)\n",
        "print(\"pen:\",pen,\",qty\",qpen)\n",
        "print(\"pencil\",pencil,\",qty\",qpencil)\n",
        "print(\"Notebook\",nbook,\",qty\",qnbook)\n",
        "print(\"Grand Total\", val-(val*discount/100))\n",
        "print('#'*20)"
      ],
      "metadata": {
        "colab": {
          "base_uri": "https://localhost:8080/"
        },
        "id": "MSRAmgnpOkSw",
        "outputId": "6a4b3b3f-dc88-446d-f035-563127f69725"
      },
      "execution_count": 50,
      "outputs": [
        {
          "output_type": "stream",
          "name": "stdout",
          "text": [
            "####################\n",
            "pen: 1 ,qty 2\n",
            "pencil 5 ,qty 20\n",
            "Notebook 20 ,qty 2\n",
            "Grand Total 142.0\n",
            "####################\n"
          ]
        }
      ]
    },
    {
      "cell_type": "code",
      "source": [
        "x=int(input(\"x:\"))\n",
        "y=int(input(\"y:\"))\n",
        "\n",
        "if x>0:\n",
        "    if y>10:\n",
        "        print(\"X&Y are True\")\n",
        "    else:\n",
        "        print(\"y is false\")\n",
        "else:\n",
        "    print('X is false')"
      ],
      "metadata": {
        "colab": {
          "base_uri": "https://localhost:8080/"
        },
        "id": "ioTAvrIsOkP7",
        "outputId": "b742916a-a516-4f59-a3da-884de975a70b"
      },
      "execution_count": 51,
      "outputs": [
        {
          "output_type": "stream",
          "name": "stdout",
          "text": [
            "x:10\n",
            "y:4\n",
            "y is false\n"
          ]
        }
      ]
    },
    {
      "cell_type": "code",
      "source": [],
      "metadata": {
        "id": "1dFiRdYJOkNP"
      },
      "execution_count": null,
      "outputs": []
    },
    {
      "cell_type": "code",
      "source": [],
      "metadata": {
        "id": "IHNlhalqOkJO"
      },
      "execution_count": null,
      "outputs": []
    },
    {
      "cell_type": "code",
      "source": [],
      "metadata": {
        "id": "XeReRxVVOkGb"
      },
      "execution_count": null,
      "outputs": []
    }
  ]
}